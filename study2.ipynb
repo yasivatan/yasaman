{
  "nbformat": 4,
  "nbformat_minor": 0,
  "metadata": {
    "colab": {
      "provenance": []
    },
    "kernelspec": {
      "name": "python3",
      "display_name": "Python 3"
    },
    "language_info": {
      "name": "python"
    }
  },
  "cells": [
    {
      "cell_type": "markdown",
      "source": [
        "تمرین 1 بخش اول"
      ],
      "metadata": {
        "id": "6_ZfO-KEGJ4C"
      }
    },
    {
      "cell_type": "code",
      "execution_count": null,
      "metadata": {
        "colab": {
          "base_uri": "https://localhost:8080/"
        },
        "id": "kYjyOElkHIGF",
        "outputId": "544bb28c-df87-49d3-9027-2b68fac00041"
      },
      "outputs": [
        {
          "output_type": "stream",
          "name": "stdout",
          "text": [
            "Name: zahra, Grade: 20, Age: 16, Field: Computer\n",
            "Name: Fatemeh, Grade: 19.5, Age: 15, Field: Computer\n",
            "Name: hosna, Grade: 19, Age: 16, Field: Computer\n",
            "Name: Sara, Grade: 18.5, Age: 15, Field: Computer\n",
            "Name: Elham, Grade: 18, Age: 15, Field: photography\n",
            "Enter the student's name: Zahra\n",
            "The index of Zahra is: -1\n",
            "Number of students in the Computer field: 4\n"
          ]
        }
      ],
      "source": [
        "students = [\n",
        "    [\"saba\", 18, 16, \"Computer\"],\n",
        "    [\"Sara\", 18.5, 15, \"Computer\"],\n",
        "    [\"hosna\", 19, 16, \"Computer\"],\n",
        "    [\"Fatemeh\", 19.5, 15, \"Computer\"],\n",
        "    [\"zahra\", 20, 16, \"Computer\"]\n",
        "]\n",
        "# adding student\n",
        "students.append(\n",
        "    [\"Elham\", 18, 15 , \"photography\"]\n",
        ")\n",
        "#removing student\n",
        "students.remove (\n",
        "    [\"saba\", 18, 16, \"Computer\"]\n",
        ")\n",
        "# finding the highest score\n",
        "sorted_students = []\n",
        "\n",
        "for student in students:\n",
        "\n",
        "    if student[1] >= 19:\n",
        "        sorted_students.insert(0, student)\n",
        "    else:\n",
        "        sorted_students.append(student)\n",
        "\n",
        "\n",
        "for student in sorted_students:\n",
        "    print(f\"Name: {student[0]}, Grade: {student[1]}, Age: {student[2]}, Field: {student[3]}\")\n",
        "\n",
        "#find the index of a student by name\n",
        "def find_student_index(name, students_list):\n",
        "    for index in range(len(students_list)):\n",
        "        if students_list[index][0] == name:\n",
        "            return index\n",
        "    return -1\n",
        "\n",
        "student_name = input(\"Enter the student's name: \")\n",
        "index = find_student_index(student_name, sorted_students)\n",
        "print(f\"The index of {student_name} is: {index}\")\n",
        "\n",
        "# Count the number of students in the \"Computer\"\n",
        "computer_students_count = sum(1 for student in sorted_students if student[3] == \"Computer\")\n",
        "print(f\"Number of students in the Computer field: {computer_students_count}\")"
      ]
    },
    {
      "cell_type": "markdown",
      "source": [
        "تمرین 1 بخش دوم"
      ],
      "metadata": {
        "id": "9xfoMSHKGSkW"
      }
    },
    {
      "cell_type": "code",
      "source": [
        "grades = [19, 19.5, 18, 18.5, 20]\n",
        "# Creating a copy of the grades list\n",
        "grades_copy = grades.copy ()\n",
        "# sorting\n",
        "grades.sort()\n",
        "# reversing the list\n",
        "grades_reverse = sorted(grades, reverse=True)\n",
        "# Clearing the original grades list\n",
        "grades.clear()\n",
        "\n",
        "print(\"Original grades list after clear:\", grades)\n",
        "print(\"original list : \",grades_copy)\n",
        "print(\"sorted grades (ascending): \",grades)\n",
        "print(\"sorted grades (ascending): \",grades_reverse)"
      ],
      "metadata": {
        "id": "5FuZ2OZ9wDC2",
        "colab": {
          "base_uri": "https://localhost:8080/"
        },
        "outputId": "22b35e2d-537c-4b10-9a83-95a2a0c809f6"
      },
      "execution_count": null,
      "outputs": [
        {
          "output_type": "stream",
          "name": "stdout",
          "text": [
            "Original grades list after clear: []\n",
            "original list :  [19, 19.5, 18, 18.5, 20]\n",
            "sorted grades (ascending):  []\n",
            "sorted grades (ascending):  [20, 19.5, 19, 18.5, 18]\n"
          ]
        }
      ]
    },
    {
      "cell_type": "markdown",
      "source": [
        "تمرین 2"
      ],
      "metadata": {
        "id": "qsb-NzMDNLBD"
      }
    },
    {
      "cell_type": "code",
      "source": [
        "students1 = [\n",
        "    [\"ali\", 17 , \"Computer\" , 18.5],\n",
        "    [\"zahra\", 16, \"graphic\" , 19.2],\n",
        "    [\"mohammad\", 18, \"mechanic\" , 17.8],\n",
        "    [\"Sara\", 17, \"accountancy\" , 18.0]\n",
        "]\n",
        "# adding student\n",
        "students.append(\n",
        "    [\"reza\", 16, \"electronic\" , 17.5]\n",
        ")\n",
        "\n",
        "# Removing students with grade below 18.0\n",
        "students_to_remove = [student for student in students1 if student[3] < 18.0]\n",
        "\n",
        "for student in students_to_remove:\n",
        "    students1.remove(student)\n",
        "\n",
        "for i in range(len(students1)):\n",
        "    for j in range(i + 1, len(students1)):\n",
        "        if students1[i][3] < students1[j][3]:\n",
        "             students1[i], students1[j] = students1[j], students1[i]\n",
        "\n",
        "#giving 0.5 to the highest rank\n",
        "if  [student for student[0] in students1 if student[3] < 19.0]:\n",
        "  for student in students1:\n",
        "        if student[3] < 19.0:\n",
        "            student[3] += 0.5\n",
        "\n",
        "#Printing the updated list of students\n",
        "print(\"Updated list of students:\")\n",
        "for student in students1:\n",
        "    print(f\"Name: {student[0]}, Age: {student[1]}, Field: {student[2]}, Average Grade: {student[3]}\")\n",
        "\n",
        "#find the index of a student by name\n",
        "def find_student_index(name, students_list):\n",
        "    for index in range(len(students_list)):\n",
        "        if students_list[index][0] == name:\n",
        "            return index\n",
        "    return -1\n",
        "\n",
        "student_name = input(\"Enter the student's name: \")\n",
        "index = find_student_index(student_name, sorted_students)\n",
        "print(f\"The index of {student_name} is: {index}\")\n",
        "\n",
        "# Count the number of students in the \"Computer\"\n",
        "computer_students_count = sum(1 for student in students1 if student[2] == \"Computer\")\n",
        "print(f\"Number of students in the Computer field: {computer_students_count}\")\n",
        "\n",
        "# get student information by name\n",
        "def get_student_info(name, students_list):\n",
        "    for student in students_list:\n",
        "        if student[0] == name:\n",
        "            return student\n",
        "    return None\n",
        "\n",
        "# Get the student's name from the user\n",
        "student_name = input(\"Enter the student's name: \")\n",
        "student_info = get_student_info(student_name, students1)\n",
        "\n",
        "\n",
        "if student_info:\n",
        "    print(f\"Name: {student_info[0]}, Age: {student_info[1]}, Field: {student_info[2]}, Average Grade: {student_info[3]}\")\n",
        "else:\n",
        "    print(f\"Student with name {student_name} not found.\")\n",
        "\n"
      ],
      "metadata": {
        "colab": {
          "base_uri": "https://localhost:8080/"
        },
        "id": "RlFFqsScNQ1d",
        "outputId": "e7cf440d-e2dd-4c36-afab-d42ae3f22d51"
      },
      "execution_count": null,
      "outputs": [
        {
          "output_type": "stream",
          "name": "stdout",
          "text": [
            "Updated list of students:\n",
            "Name: zahra, Age: 16, Field: graphic, Average Grade: 19.2\n",
            "Name: ali, Age: 17, Field: Computer, Average Grade: 19.0\n",
            "Name: Sara, Age: 17, Field: accountancy, Average Grade: 18.5\n",
            "Enter the student's name: vbnm\n",
            "The index of vbnm is: -1\n",
            "Number of students in the Computer field: 1\n",
            "Enter the student's name: vbnm\n",
            "Student with name vbnm not found.\n"
          ]
        }
      ]
    },
    {
      "cell_type": "markdown",
      "source": [
        "تمرین 4"
      ],
      "metadata": {
        "id": "hn2Pse9pXu9C"
      }
    },
    {
      "cell_type": "code",
      "source": [
        "accounts = [\n",
        "    [\"Ali\" , 1001 , 5000000],\n",
        "    [\"zahra\" , 1002 , 8200000],\n",
        "    [\"mohammad\" , 1003 , 2300000],\n",
        "    [\"sara\" , 1004 , 12500000]\n",
        "]\n",
        "# checking the accounts\n",
        "for account in accounts:\n",
        "  if account[2] < 3000000:\n",
        "   print(\"your account has less than 3000000 in it. \" f\"Account : {account[0]}, Account Number: {account[1]}, Balance: {account[2]}\")\n",
        "\n",
        "# all the money\n",
        "all_the_money = sum(account[2] for account  in accounts)\n",
        "print(\"all the money in the bank : \",all_the_money)\n",
        "\n",
        "# Get account number from the user\n",
        "account_number = int(input(\"Enter the account number: \"))\n",
        "# Check for the account\n",
        "index = 0\n",
        "account_found = False\n",
        "\n",
        "while index < len(accounts):\n",
        "    if accounts[index][1] == account_number:\n",
        "        print(f\"Account: {accounts[index][0]}, Account Number: {accounts[index][1]}, Balance: {accounts[index][2]}\")\n",
        "        account_found = True\n",
        "        break\n",
        "    index += 1\n",
        "\n",
        "if not account_found:\n",
        "    print(f\"No account found\")\n",
        "else:\n",
        "  # taking money\n",
        "  amount = int(input(\"enter the amount of money that you want : \"))\n",
        "\n",
        "  while amount > accounts[index][2]:\n",
        "    print(\"the amount is more than what you have\")\n",
        "    amount = int(input(\"Enter a new amount to withdraw: \"))\n",
        "\n",
        "  accounts[index][2] -= amount\n",
        "  print(f\"taking money was successful ! amount : {amount} ,the money in the bank : {accounts[index][2]}\")\n"
      ],
      "metadata": {
        "colab": {
          "base_uri": "https://localhost:8080/"
        },
        "id": "qTP6lglqxcNb",
        "outputId": "4b1bc20c-19fc-4ff8-9d3a-b4de3d1cbac7"
      },
      "execution_count": 27,
      "outputs": [
        {
          "output_type": "stream",
          "name": "stdout",
          "text": [
            "your account has less than 3000000 in it. Account : mohammad, Account Number: 1003, Balance: 2300000\n",
            "all the money in the bank :  28000000\n",
            "Enter the account number: 123456\n",
            "No account found\n"
          ]
        }
      ]
    }
  ]
}