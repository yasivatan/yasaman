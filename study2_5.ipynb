{
  "nbformat": 4,
  "nbformat_minor": 0,
  "metadata": {
    "colab": {
      "provenance": []
    },
    "kernelspec": {
      "name": "python3",
      "display_name": "Python 3"
    },
    "language_info": {
      "name": "python"
    }
  },
  "cells": [
    {
      "cell_type": "markdown",
      "source": [
        "تمرین 5"
      ],
      "metadata": {
        "id": "9AlHJp-DNIMv"
      }
    },
    {
      "cell_type": "code",
      "execution_count": 8,
      "metadata": {
        "colab": {
          "base_uri": "https://localhost:8080/"
        },
        "id": "_7Lzdt0TMugd",
        "outputId": "5faa3d0f-393d-4cd1-9de2-f50e916f8f5b"
      },
      "outputs": [
        {
          "output_type": "stream",
          "name": "stdout",
          "text": [
            "Transactions with positive balance:\n",
            "Account Holder: ali, Account Number: 1001, Balance: 500000\n",
            "Account Holder: sara, Account Number: 1004, Balance: 750000\n",
            "Account Holder: mina, Account Number: 1006, Balance: 1000000\n",
            "wrong transactions : 3\n",
            "worning : too many wrong transactions !\n"
          ]
        }
      ],
      "source": [
        "transactions = [\n",
        "    [\"ali\" , 1001 , 500000],\n",
        "    [\"zahra\" , 1002 , -200000],\n",
        "    [\"mohammad\" , 1003 , 0],\n",
        "    [\"sara\" , 1004 , 750000],\n",
        "    [\"reza\" , 1005 , -1500000],\n",
        "    [\"mina\" , 1006 , 1000000]\n",
        "]\n",
        "# check the positivity\n",
        "# if the wrong ones were more then two\n",
        "error =0\n",
        "print(\"Transactions with positive balance:\")\n",
        "for transaction in transactions:\n",
        "  if transaction[2] <= 0:\n",
        "    error += 1\n",
        "    continue\n",
        "  print(f\"Account Holder: {transaction[0]}, Account Number: {transaction[1]}, Balance: {transaction[2]}\")\n",
        "if error > 2:\n",
        "  print(\"wrong transactions :\",error)\n",
        "  print(\"worning : too many wrong transactions !\")"
      ]
    }
  ]
}